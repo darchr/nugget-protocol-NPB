{
 "cells": [
  {
   "cell_type": "code",
   "execution_count": 9,
   "metadata": {},
   "outputs": [],
   "source": [
    "import json\n",
    "from pathlib import Path"
   ]
  },
  {
   "cell_type": "code",
   "execution_count": 10,
   "metadata": {},
   "outputs": [],
   "source": [
    "with open(\"/home/studyztp/test_ground/experiments/hardware-profiling/NPB_protocol/NPB3.4.2/NPB3.4-OMP/clustering_data.json\") as file:\n",
    "    cluster_data = json.load(file)\n",
    "\n",
    "target_k = 10\n",
    "benchmarks = list(cluster_data.keys())"
   ]
  },
  {
   "cell_type": "code",
   "execution_count": 11,
   "metadata": {},
   "outputs": [],
   "source": [
    "rep_rid = {}\n",
    "for bench in benchmarks:\n",
    "    list_of_rids = list(cluster_data[bench][str(target_k)][\"rep_rid\"].values())\n",
    "    rep_rid[bench] = {\n",
    "        \"rep_rid\" : list_of_rids,\n",
    "    }\n",
    "\n",
    "with open(\"rep_rid_k_10_NPB_B.json\", \"w\") as file:\n",
    "    json.dump(rep_rid, file, indent=4)  "
   ]
  }
 ],
 "metadata": {
  "kernelspec": {
   "display_name": "Python 3",
   "language": "python",
   "name": "python3"
  },
  "language_info": {
   "codemirror_mode": {
    "name": "ipython",
    "version": 3
   },
   "file_extension": ".py",
   "mimetype": "text/x-python",
   "name": "python",
   "nbconvert_exporter": "python",
   "pygments_lexer": "ipython3",
   "version": "3.8.10"
  }
 },
 "nbformat": 4,
 "nbformat_minor": 2
}
