{
 "cells": [
  {
   "cell_type": "code",
   "execution_count": 1,
   "metadata": {},
   "outputs": [],
   "source": [
    "import json\n",
    "from pathlib import Path\n",
    "from sklearn.cluster import KMeans\n",
    "from sklearn import random_projection\n",
    "import numpy as np\n",
    "import random\n",
    "from scipy.spatial import distance\n",
    "\n",
    "workdir = Path().cwd()"
   ]
  },
  {
   "cell_type": "code",
   "execution_count": 2,
   "metadata": {},
   "outputs": [],
   "source": [
    "# Random Seed at file level\n",
    "random_seed = 627\n",
    "\n",
    "np.random.seed(random_seed)\n",
    "random.seed(random_seed)\n",
    "\n",
    "benchmarks = [\"bt\", \"cg\", \"ep\", \"ft\", \"is\", \"lu\", \"mg\", \"sp\"]"
   ]
  },
  {
   "cell_type": "code",
   "execution_count": 8,
   "metadata": {},
   "outputs": [],
   "source": [
    "def form_matrix(data):\n",
    "    matrix = []\n",
    "    order_list = {}\n",
    "    for i in data[\"0\"].keys():\n",
    "        order_list[i] = len(order_list)\n",
    "    for rid, rdata in data.items():\n",
    "        row = [0] * len(order_list.keys())\n",
    "        for event, value in rdata.items():\n",
    "            if event == \"runtime\":\n",
    "                avg_runtime = sum(value) / len(value)\n",
    "                row[order_list[\"runtime\"]] = avg_runtime\n",
    "            else:\n",
    "                row[order_list[event]] = int(value)\n",
    "        matrix.append(row)\n",
    "    return matrix\n",
    "\n",
    "def find_rep_rid(data, labels, centers):\n",
    "    rep_rid = {}\n",
    "    for i, center in enumerate(centers):\n",
    "        min = float('inf')\n",
    "        min_rid = -1\n",
    "        count = 0\n",
    "        for j, label in enumerate(labels):\n",
    "            if label == i:\n",
    "                count += 1\n",
    "                dist = distance.euclidean(center, data[j])\n",
    "                if dist < min and j != 0:\n",
    "                    min = dist\n",
    "                    min_rid = j\n",
    "        if min_rid != -1:\n",
    "            rep_rid[i] = min_rid\n",
    "        else:\n",
    "            print(\"Error: No representative RID found for cluster\")\n",
    "            print(f\"There are {count} RIDs in cluster {i}\")\n",
    "\n",
    "    return rep_rid\n",
    "def find_cluster_rid(labels):\n",
    "    clusters = {}\n",
    "    for i, label in enumerate(labels):\n",
    "        if str(label) not in clusters.keys():\n",
    "            clusters[str(label)] = []\n",
    "        clusters[str(label)].append(i)\n",
    "    return clusters\n",
    "\n",
    "def clustering(data, k):\n",
    "    all_clusters = {}\n",
    "    for i in range(10, k+1, 10):\n",
    "        kmeans = KMeans(n_clusters=i, random_state=random_seed)\n",
    "        kmeans.fit(data)\n",
    "\n",
    "        centers = kmeans.cluster_centers_\n",
    "        labels = kmeans.labels_\n",
    "        inertia = kmeans.inertia_\n",
    "        n_iter = kmeans.n_iter_\n",
    "        print(i)\n",
    "        rep_rid = find_rep_rid(data, labels.tolist(), centers.tolist())\n",
    "        clusters = find_cluster_rid(labels.tolist())\n",
    "        all_clusters[str(i)] = {\n",
    "            \"centers\": centers.tolist(),\n",
    "            \"labels\": labels.tolist(),\n",
    "            \"inertia\": inertia,\n",
    "            \"n_iter\": n_iter,\n",
    "            \"rep_rid\": rep_rid,\n",
    "            \"clusters\": clusters\n",
    "        }\n",
    "\n",
    "    return all_clusters"
   ]
  },
  {
   "cell_type": "code",
   "execution_count": 9,
   "metadata": {},
   "outputs": [
    {
     "name": "stdout",
     "output_type": "stream",
     "text": [
      "bt\n"
     ]
    },
    {
     "name": "stderr",
     "output_type": "stream",
     "text": [
      "/home/studyztp/.local/lib/python3.10/site-packages/sklearn/cluster/_kmeans.py:1412: FutureWarning: The default value of `n_init` will change from 10 to 'auto' in 1.4. Set the value of `n_init` explicitly to suppress the warning\n",
      "  super()._check_params_vs_input(X, default_n_init=10)\n"
     ]
    },
    {
     "name": "stdout",
     "output_type": "stream",
     "text": [
      "10\n"
     ]
    },
    {
     "name": "stderr",
     "output_type": "stream",
     "text": [
      "/home/studyztp/.local/lib/python3.10/site-packages/sklearn/cluster/_kmeans.py:1412: FutureWarning: The default value of `n_init` will change from 10 to 'auto' in 1.4. Set the value of `n_init` explicitly to suppress the warning\n",
      "  super()._check_params_vs_input(X, default_n_init=10)\n"
     ]
    },
    {
     "name": "stdout",
     "output_type": "stream",
     "text": [
      "20\n"
     ]
    },
    {
     "name": "stderr",
     "output_type": "stream",
     "text": [
      "/home/studyztp/.local/lib/python3.10/site-packages/sklearn/cluster/_kmeans.py:1412: FutureWarning: The default value of `n_init` will change from 10 to 'auto' in 1.4. Set the value of `n_init` explicitly to suppress the warning\n",
      "  super()._check_params_vs_input(X, default_n_init=10)\n"
     ]
    },
    {
     "name": "stdout",
     "output_type": "stream",
     "text": [
      "30\n",
      "cg\n"
     ]
    },
    {
     "name": "stderr",
     "output_type": "stream",
     "text": [
      "/home/studyztp/.local/lib/python3.10/site-packages/sklearn/cluster/_kmeans.py:1412: FutureWarning: The default value of `n_init` will change from 10 to 'auto' in 1.4. Set the value of `n_init` explicitly to suppress the warning\n",
      "  super()._check_params_vs_input(X, default_n_init=10)\n"
     ]
    },
    {
     "name": "stdout",
     "output_type": "stream",
     "text": [
      "10\n"
     ]
    },
    {
     "name": "stderr",
     "output_type": "stream",
     "text": [
      "/home/studyztp/.local/lib/python3.10/site-packages/sklearn/cluster/_kmeans.py:1412: FutureWarning: The default value of `n_init` will change from 10 to 'auto' in 1.4. Set the value of `n_init` explicitly to suppress the warning\n",
      "  super()._check_params_vs_input(X, default_n_init=10)\n"
     ]
    },
    {
     "name": "stdout",
     "output_type": "stream",
     "text": [
      "20\n",
      "Error: No representative RID found for cluster\n",
      "There are 1 RIDs in cluster 10\n"
     ]
    },
    {
     "name": "stderr",
     "output_type": "stream",
     "text": [
      "/home/studyztp/.local/lib/python3.10/site-packages/sklearn/cluster/_kmeans.py:1412: FutureWarning: The default value of `n_init` will change from 10 to 'auto' in 1.4. Set the value of `n_init` explicitly to suppress the warning\n",
      "  super()._check_params_vs_input(X, default_n_init=10)\n"
     ]
    },
    {
     "name": "stdout",
     "output_type": "stream",
     "text": [
      "30\n",
      "Error: No representative RID found for cluster\n",
      "There are 1 RIDs in cluster 9\n",
      "ep\n"
     ]
    },
    {
     "name": "stderr",
     "output_type": "stream",
     "text": [
      "/home/studyztp/.local/lib/python3.10/site-packages/sklearn/cluster/_kmeans.py:1412: FutureWarning: The default value of `n_init` will change from 10 to 'auto' in 1.4. Set the value of `n_init` explicitly to suppress the warning\n",
      "  super()._check_params_vs_input(X, default_n_init=10)\n"
     ]
    },
    {
     "name": "stdout",
     "output_type": "stream",
     "text": [
      "10\n"
     ]
    },
    {
     "name": "stderr",
     "output_type": "stream",
     "text": [
      "/home/studyztp/.local/lib/python3.10/site-packages/sklearn/cluster/_kmeans.py:1412: FutureWarning: The default value of `n_init` will change from 10 to 'auto' in 1.4. Set the value of `n_init` explicitly to suppress the warning\n",
      "  super()._check_params_vs_input(X, default_n_init=10)\n"
     ]
    },
    {
     "name": "stdout",
     "output_type": "stream",
     "text": [
      "20\n"
     ]
    },
    {
     "name": "stderr",
     "output_type": "stream",
     "text": [
      "/home/studyztp/.local/lib/python3.10/site-packages/sklearn/cluster/_kmeans.py:1412: FutureWarning: The default value of `n_init` will change from 10 to 'auto' in 1.4. Set the value of `n_init` explicitly to suppress the warning\n",
      "  super()._check_params_vs_input(X, default_n_init=10)\n"
     ]
    },
    {
     "name": "stdout",
     "output_type": "stream",
     "text": [
      "30\n",
      "ft\n"
     ]
    },
    {
     "name": "stderr",
     "output_type": "stream",
     "text": [
      "/home/studyztp/.local/lib/python3.10/site-packages/sklearn/cluster/_kmeans.py:1412: FutureWarning: The default value of `n_init` will change from 10 to 'auto' in 1.4. Set the value of `n_init` explicitly to suppress the warning\n",
      "  super()._check_params_vs_input(X, default_n_init=10)\n"
     ]
    },
    {
     "name": "stdout",
     "output_type": "stream",
     "text": [
      "10\n"
     ]
    },
    {
     "name": "stderr",
     "output_type": "stream",
     "text": [
      "/home/studyztp/.local/lib/python3.10/site-packages/sklearn/cluster/_kmeans.py:1412: FutureWarning: The default value of `n_init` will change from 10 to 'auto' in 1.4. Set the value of `n_init` explicitly to suppress the warning\n",
      "  super()._check_params_vs_input(X, default_n_init=10)\n"
     ]
    },
    {
     "name": "stdout",
     "output_type": "stream",
     "text": [
      "20\n"
     ]
    },
    {
     "name": "stderr",
     "output_type": "stream",
     "text": [
      "/home/studyztp/.local/lib/python3.10/site-packages/sklearn/cluster/_kmeans.py:1412: FutureWarning: The default value of `n_init` will change from 10 to 'auto' in 1.4. Set the value of `n_init` explicitly to suppress the warning\n",
      "  super()._check_params_vs_input(X, default_n_init=10)\n"
     ]
    },
    {
     "name": "stdout",
     "output_type": "stream",
     "text": [
      "30\n",
      "is\n",
      "10\n",
      "20\n",
      "30\n",
      "Error: No representative RID found for cluster\n",
      "There are 1 RIDs in cluster 22\n",
      "lu\n"
     ]
    },
    {
     "name": "stderr",
     "output_type": "stream",
     "text": [
      "/home/studyztp/.local/lib/python3.10/site-packages/sklearn/cluster/_kmeans.py:1412: FutureWarning: The default value of `n_init` will change from 10 to 'auto' in 1.4. Set the value of `n_init` explicitly to suppress the warning\n",
      "  super()._check_params_vs_input(X, default_n_init=10)\n",
      "/home/studyztp/.local/lib/python3.10/site-packages/sklearn/cluster/_kmeans.py:1412: FutureWarning: The default value of `n_init` will change from 10 to 'auto' in 1.4. Set the value of `n_init` explicitly to suppress the warning\n",
      "  super()._check_params_vs_input(X, default_n_init=10)\n",
      "/home/studyztp/.local/lib/python3.10/site-packages/sklearn/cluster/_kmeans.py:1412: FutureWarning: The default value of `n_init` will change from 10 to 'auto' in 1.4. Set the value of `n_init` explicitly to suppress the warning\n",
      "  super()._check_params_vs_input(X, default_n_init=10)\n",
      "/home/studyztp/.local/lib/python3.10/site-packages/sklearn/cluster/_kmeans.py:1412: FutureWarning: The default value of `n_init` will change from 10 to 'auto' in 1.4. Set the value of `n_init` explicitly to suppress the warning\n",
      "  super()._check_params_vs_input(X, default_n_init=10)\n"
     ]
    },
    {
     "name": "stdout",
     "output_type": "stream",
     "text": [
      "10\n"
     ]
    },
    {
     "name": "stderr",
     "output_type": "stream",
     "text": [
      "/home/studyztp/.local/lib/python3.10/site-packages/sklearn/cluster/_kmeans.py:1412: FutureWarning: The default value of `n_init` will change from 10 to 'auto' in 1.4. Set the value of `n_init` explicitly to suppress the warning\n",
      "  super()._check_params_vs_input(X, default_n_init=10)\n"
     ]
    },
    {
     "name": "stdout",
     "output_type": "stream",
     "text": [
      "20\n"
     ]
    },
    {
     "name": "stderr",
     "output_type": "stream",
     "text": [
      "/home/studyztp/.local/lib/python3.10/site-packages/sklearn/cluster/_kmeans.py:1412: FutureWarning: The default value of `n_init` will change from 10 to 'auto' in 1.4. Set the value of `n_init` explicitly to suppress the warning\n",
      "  super()._check_params_vs_input(X, default_n_init=10)\n"
     ]
    },
    {
     "name": "stdout",
     "output_type": "stream",
     "text": [
      "30\n",
      "mg\n"
     ]
    },
    {
     "name": "stderr",
     "output_type": "stream",
     "text": [
      "/home/studyztp/.local/lib/python3.10/site-packages/sklearn/cluster/_kmeans.py:1412: FutureWarning: The default value of `n_init` will change from 10 to 'auto' in 1.4. Set the value of `n_init` explicitly to suppress the warning\n",
      "  super()._check_params_vs_input(X, default_n_init=10)\n"
     ]
    },
    {
     "name": "stdout",
     "output_type": "stream",
     "text": [
      "10\n"
     ]
    },
    {
     "name": "stderr",
     "output_type": "stream",
     "text": [
      "/home/studyztp/.local/lib/python3.10/site-packages/sklearn/cluster/_kmeans.py:1412: FutureWarning: The default value of `n_init` will change from 10 to 'auto' in 1.4. Set the value of `n_init` explicitly to suppress the warning\n",
      "  super()._check_params_vs_input(X, default_n_init=10)\n"
     ]
    },
    {
     "name": "stdout",
     "output_type": "stream",
     "text": [
      "20\n"
     ]
    },
    {
     "name": "stderr",
     "output_type": "stream",
     "text": [
      "/home/studyztp/.local/lib/python3.10/site-packages/sklearn/cluster/_kmeans.py:1412: FutureWarning: The default value of `n_init` will change from 10 to 'auto' in 1.4. Set the value of `n_init` explicitly to suppress the warning\n",
      "  super()._check_params_vs_input(X, default_n_init=10)\n"
     ]
    },
    {
     "name": "stdout",
     "output_type": "stream",
     "text": [
      "30\n",
      "sp\n"
     ]
    },
    {
     "name": "stderr",
     "output_type": "stream",
     "text": [
      "/home/studyztp/.local/lib/python3.10/site-packages/sklearn/cluster/_kmeans.py:1412: FutureWarning: The default value of `n_init` will change from 10 to 'auto' in 1.4. Set the value of `n_init` explicitly to suppress the warning\n",
      "  super()._check_params_vs_input(X, default_n_init=10)\n"
     ]
    },
    {
     "name": "stdout",
     "output_type": "stream",
     "text": [
      "10\n"
     ]
    },
    {
     "name": "stderr",
     "output_type": "stream",
     "text": [
      "/home/studyztp/.local/lib/python3.10/site-packages/sklearn/cluster/_kmeans.py:1412: FutureWarning: The default value of `n_init` will change from 10 to 'auto' in 1.4. Set the value of `n_init` explicitly to suppress the warning\n",
      "  super()._check_params_vs_input(X, default_n_init=10)\n"
     ]
    },
    {
     "name": "stdout",
     "output_type": "stream",
     "text": [
      "20\n"
     ]
    },
    {
     "name": "stderr",
     "output_type": "stream",
     "text": [
      "/home/studyztp/.local/lib/python3.10/site-packages/sklearn/cluster/_kmeans.py:1412: FutureWarning: The default value of `n_init` will change from 10 to 'auto' in 1.4. Set the value of `n_init` explicitly to suppress the warning\n",
      "  super()._check_params_vs_input(X, default_n_init=10)\n"
     ]
    },
    {
     "name": "stdout",
     "output_type": "stream",
     "text": [
      "30\n"
     ]
    }
   ],
   "source": [
    "with open(workdir/\"azacca-papi-profiling-data.json\") as f:\n",
    "    azacca_data = json.load(f)\n",
    "\n",
    "bench_matrix = {}\n",
    "all_clustering_data = {}\n",
    "\n",
    "for bench in benchmarks:\n",
    "    bench_matrix[bench] = form_matrix(azacca_data[bench])\n",
    "    data = np.array(bench_matrix[bench])\n",
    "    print(bench)\n",
    "    all_clustering_data[bench] = clustering(data, 30)\n",
    "\n",
    "with open(workdir/\"cluster_based_on_uarch.json\", \"w\") as f:\n",
    "    json.dump(all_clustering_data, f, indent=4)\n",
    "\n",
    "with open(Path(workdir/\"marker_info.json\"), \"r\") as f:\n",
    "    marker_info = json.load(f)"
   ]
  },
  {
   "cell_type": "code",
   "execution_count": 10,
   "metadata": {},
   "outputs": [
    {
     "name": "stdout",
     "output_type": "stream",
     "text": [
      "Total 58 regions for bt\n",
      "Total 47 regions for cg\n",
      "Total 43 regions for ep\n",
      "Total 48 regions for ft\n",
      "Total 36 regions for is\n",
      "Total 57 regions for lu\n",
      "Total 44 regions for mg\n",
      "Total 57 regions for sp\n",
      "Total 390 regions\n"
     ]
    }
   ],
   "source": [
    "bash_script = \"\"\n",
    "counter = 0\n",
    "import shutil\n",
    "for bench in benchmarks:\n",
    "    bench_dir = Path(workdir/bench.upper())\n",
    "    cluster_dir = Path(bench_dir/\"clusters\")\n",
    "    if cluster_dir.exists():\n",
    "        shutil.rmtree(cluster_dir)\n",
    "    cluster_dir.mkdir(exist_ok=False)\n",
    "\n",
    "    all_rid = set()\n",
    "    for k in range(10, 31, 10):\n",
    "        all_rid.update(set(all_clustering_data[bench][str(k)][\"rep_rid\"].values()))\n",
    "\n",
    "    print(f\"Total {len(all_rid)} regions for {bench}\")\n",
    "    counter += len(all_rid)\n",
    "    \n",
    "    for rid in all_rid:\n",
    "        # print(f\"Writing down {rid} for {bench}\")\n",
    "        region_markers = marker_info[bench][str(rid)]\n",
    "        writedown = str(region_markers[\"warmup_marker_function_id\"]) + \"\\n\" \\\n",
    "                +  str(region_markers[\"warmup_marker_bbid\"]) + \"\\n\" \\\n",
    "                +  str(region_markers[\"warmup_marker_count\"]) + \"\\n\" \\\n",
    "                +  str(region_markers[\"start_marker_function_id\"]) + \"\\n\" \\\n",
    "                +  str(region_markers[\"start_marker_bbid\"]) + \"\\n\" \\\n",
    "                +  str(region_markers[\"start_marker_count\"]) + \"\\n\" \\\n",
    "                +  str(region_markers[\"end_marker_function_id\"]) + \"\\n\" \\\n",
    "                +  str(region_markers[\"end_marker_bbid\"]) + \"\\n\" \\\n",
    "                +  str(region_markers[\"end_marker_count\"]) +\"\\n\"\n",
    "        file_path = Path(cluster_dir/f\"{rid}.txt\")\n",
    "        with open(cluster_dir/f\"{rid}.txt\", \"w\") as f:\n",
    "            f.write(writedown)\n",
    "        bash_script += f\"make papi PROGRAM={bench} REGION={rid} TARGET_ARCH=aarch64;\\n\"\n",
    "        bash_script += f\"make m5_fs PROGRAM={bench} REGION={rid} TARGET_ARCH=aarch64;\\n\"\n",
    "        bash_script += f\"make final_compile_papi PROGRAM={bench} REGION={rid} TARGET_ARCH=aarch64;\\n\"\n",
    "        bash_script += f\"make final_compile_m5_fs PROGRAM={bench} REGION={rid} TARGET_ARCH=aarch64;\\n\"\n",
    "\n",
    "with open(workdir/\"build_papi_m5_fs_aarch64_script.sh\", \"w\") as f:\n",
    "    f.write(bash_script)\n",
    "\n",
    "print(f\"Total {counter} regions\")\n"
   ]
  }
 ],
 "metadata": {
  "kernelspec": {
   "display_name": "Python 3",
   "language": "python",
   "name": "python3"
  },
  "language_info": {
   "codemirror_mode": {
    "name": "ipython",
    "version": 3
   },
   "file_extension": ".py",
   "mimetype": "text/x-python",
   "name": "python",
   "nbconvert_exporter": "python",
   "pygments_lexer": "ipython3",
   "version": "3.10.12"
  }
 },
 "nbformat": 4,
 "nbformat_minor": 2
}
