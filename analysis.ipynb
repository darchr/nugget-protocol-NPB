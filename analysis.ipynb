{
 "cells": [
  {
   "cell_type": "code",
   "execution_count": 9,
   "metadata": {},
   "outputs": [],
   "source": [
    "import json\n",
    "from pathlib import Path\n",
    "import re"
   ]
  },
  {
   "cell_type": "code",
   "execution_count": 10,
   "metadata": {},
   "outputs": [],
   "source": [
    "benchmark = [\"bt\", \"cg\", \"ep\", \"ft\", \"is\", \"lu\", \"mg\", \"sp\"]\n",
    "size = \"B\"\n",
    "workdir = Path(\"/home/studyztp/test_ground/experiments/hardware-profiling/NPB_protocol/NPB3.4.2/NPB3.4-OMP\")"
   ]
  },
  {
   "cell_type": "code",
   "execution_count": 11,
   "metadata": {},
   "outputs": [],
   "source": [
    "def get_static_info(path):\n",
    "    info = {}\n",
    "    with open(path, \"r\") as f:\n",
    "        line = f.readline()\n",
    "        line = f.readline()\n",
    "        while line:\n",
    "            match = re.match(r'\\[(\\d+):(\\w+)\\] \\[(\\d+):(.*)\\] \\[(\\d+)\\]', line.strip())\n",
    "            if match:\n",
    "                function_id, function_name, basic_block_id, basic_block_name, basic_block_count = match.groups()\n",
    "                if function_id not in info:\n",
    "                    info[function_id] = {\n",
    "                        \"function_name\": function_name,\n",
    "                        \"basic_blocks\": {}\n",
    "                    }\n",
    "                info[function_id][\"basic_blocks\"][basic_block_id] = {\n",
    "                    \"basic_block_name\": basic_block_name,\n",
    "                    \"basic_block_count\": basic_block_count\n",
    "                }\n",
    "            line = f.readline()\n",
    "    return info\n",
    "\n",
    "def form_dict_from_bbv(line):\n",
    "    line = line.split()\n",
    "    formed_dict = {}\n",
    "    for item in line:\n",
    "        if int(item.split(\":\")[1]) == 0:\n",
    "            continue\n",
    "        formed_dict[int(item.split(\":\")[0])] = int(item.split(\":\")[1])\n",
    "    return formed_dict\n",
    "\n",
    "def get_profiling_info(path):\n",
    "    info = {}\n",
    "    with open(path, \"r\") as f:\n",
    "        line = f.readline()\n",
    "        line = f.readline()\n",
    "        info[\"roi_begin\"] = form_dict_from_bbv(line)\n",
    "        while line:\n",
    "            match = re.match(r'Region(\\d+)', line.strip())\n",
    "            if match:\n",
    "                region_id = match.groups()[0]\n",
    "                info[region_id] = {\n",
    "                    \"inst\" : int(line.split()[2])\n",
    "                }\n",
    "                line = f.readline()\n",
    "                line = f.readline()\n",
    "                info[region_id][\"bbv\"] = form_dict_from_bbv(line)\n",
    "                line = f.readline()\n",
    "                line = f.readline()\n",
    "                info[region_id][\"timestamp\"] = form_dict_from_bbv(line)\n",
    "            line = f.readline()\n",
    "    return info\n"
   ]
  },
  {
   "cell_type": "code",
   "execution_count": 12,
   "metadata": {},
   "outputs": [],
   "source": [
    "raw_profiling_info = {}\n",
    "for bench in benchmark:\n",
    "    bench_dir = Path(workdir/bench.upper())\n",
    "    profiler_dir = Path(bench_dir/\"profiling\")\n",
    "    static_info = get_static_info(Path(profiler_dir/\"basicBlockInfo.txt\"))\n",
    "    profiling_info = get_profiling_info(Path(profiler_dir/\"profiler_output.txt\"))\n",
    "    raw_profiling_info[bench] = {\n",
    "        \"static_info\": static_info,\n",
    "        \"profiling_info\": profiling_info\n",
    "    }\n",
    "\n",
    "with open(\"raw_profiling_info.json\", \"w\") as f:\n",
    "    json.dump(raw_profiling_info, f, indent=4)"
   ]
  }
 ],
 "metadata": {
  "kernelspec": {
   "display_name": "Python 3",
   "language": "python",
   "name": "python3"
  },
  "language_info": {
   "codemirror_mode": {
    "name": "ipython",
    "version": 3
   },
   "file_extension": ".py",
   "mimetype": "text/x-python",
   "name": "python",
   "nbconvert_exporter": "python",
   "pygments_lexer": "ipython3",
   "version": "3.10.12"
  }
 },
 "nbformat": 4,
 "nbformat_minor": 2
}
